{
 "cells": [
  {
   "cell_type": "code",
   "execution_count": 1,
   "id": "f97b212e-a979-4fe2-b075-669a708c6832",
   "metadata": {},
   "outputs": [],
   "source": [
    "import openai"
   ]
  },
  {
   "cell_type": "code",
   "execution_count": 2,
   "id": "18ba0a03-d335-4529-8b71-9589233d7bfe",
   "metadata": {},
   "outputs": [],
   "source": [
    "from openai import OpenAI"
   ]
  },
  {
   "cell_type": "code",
   "execution_count": 3,
   "id": "a30a08c2-3149-4c89-8257-d68fa247b79b",
   "metadata": {},
   "outputs": [],
   "source": [
    "client = OpenAI(\n",
    "  base_url=\"https://openrouter.ai/api/v1\",\n",
    "  api_key=\"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\",\n",
    ")"
   ]
  },
  {
   "cell_type": "code",
   "execution_count": 4,
   "id": "8a47bf32-0f72-4211-ba5a-293642b073e8",
   "metadata": {},
   "outputs": [],
   "source": [
    "import os"
   ]
  },
  {
   "cell_type": "code",
   "execution_count": 6,
   "id": "a4214b9f-dd8a-4fd8-a78e-48c634b910e6",
   "metadata": {},
   "outputs": [],
   "source": [
    "response= client.chat.completions.create(\n",
    "    model='google/gemma-3n-e4b-it:free',\n",
    "    messages=[{\"role\":\"user\",\"content\":\"I am beautiful\"}]\n",
    ")"
   ]
  },
  {
   "cell_type": "code",
   "execution_count": 12,
   "id": "c853cb57-55e1-44cc-8685-9fafe604778e",
   "metadata": {},
   "outputs": [
    {
     "data": {
      "text/plain": [
       "\"It's wonderful that you feel beautiful! That's a fantastic feeling to have. Confidence and self-love are truly powerful things. \\n\\nIt's important to remember that beauty comes in so many forms – inner beauty, outer beauty, and everything in between.  And it's often a combination of how we feel about ourselves and how we express ourselves.\\n\\nIf you'd like to talk more about what makes you feel beautiful, or if you ever want to chat about anything else, I'm here to listen.\\n\\n\\n\\n\""
      ]
     },
     "execution_count": 12,
     "metadata": {},
     "output_type": "execute_result"
    }
   ],
   "source": [
    "response.choices[0].message.content"
   ]
  },
  {
   "cell_type": "code",
   "execution_count": null,
   "id": "c585ec0b-cd05-4d09-b2fd-af8b2796a77d",
   "metadata": {},
   "outputs": [],
   "source": []
  }
 ],
 "metadata": {
  "kernelspec": {
   "display_name": "Python 3 (ipykernel)",
   "language": "python",
   "name": "python3"
  },
  "language_info": {
   "codemirror_mode": {
    "name": "ipython",
    "version": 3
   },
   "file_extension": ".py",
   "mimetype": "text/x-python",
   "name": "python",
   "nbconvert_exporter": "python",
   "pygments_lexer": "ipython3",
   "version": "3.12.1"
  }
 },
 "nbformat": 4,
 "nbformat_minor": 5
}
